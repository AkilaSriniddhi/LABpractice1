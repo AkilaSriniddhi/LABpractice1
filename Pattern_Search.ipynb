{
 "cells": [
  {
   "cell_type": "code",
   "execution_count": null,
   "id": "e616ce47-6850-4f0f-8738-cb48568c93f0",
   "metadata": {},
   "outputs": [
    {
     "name": "stdout",
     "output_type": "stream",
     "text": [
      "KMP pattern search (enter 'q' or empty text to quit)\n"
     ]
    },
    {
     "name": "stdin",
     "output_type": "stream",
     "text": [
      "\n",
      "Enter text (or 'q' to quit):  aabbaaaccabbaacaccaabbaaccaabhhaaaccaac\n",
      "Enter pattern (or 'q' to quit):  aac\n"
     ]
    },
    {
     "name": "stdout",
     "output_type": "stream",
     "text": [
      "Pattern found at index 5\n",
      "Pattern found at index 12\n",
      "Pattern found at index 22\n",
      "Pattern found at index 32\n",
      "Pattern found at index 36\n"
     ]
    },
    {
     "name": "stdin",
     "output_type": "stream",
     "text": [
      "\n",
      "Enter text (or 'q' to quit):  Text: Lorem ipsum dolor sit amet, consectetur adipiscing elit. Sed do eiusmod tempor incididunt ut labore et dolore magna aliqua. Ut enim ad minim veniam, quis nostrud exercitation ullamco laboris nisi ut aliquip ex ea commodo consequat. Duis aute irure dolor in reprehenderit in voluptate velit esse cillum dolore eu fugiat nulla pariatur.\n",
      "Enter pattern (or 'q' to quit):  do\n"
     ]
    },
    {
     "name": "stdout",
     "output_type": "stream",
     "text": [
      "Pattern found at index 18\n",
      "Pattern found at index 67\n",
      "Pattern found at index 109\n",
      "Pattern found at index 224\n",
      "Pattern found at index 254\n",
      "Pattern found at index 308\n"
     ]
    }
   ],
   "source": [
    "def kmp_search(pat: str, txt: str) -> list[int]:\n",
    "    m, n = len(pat), len(txt)\n",
    "    if m == 0 or n < m:\n",
    "        return []\n",
    "    # build lps\n",
    "    lps = [0] * m\n",
    "    length = 0\n",
    "    for i in range(1, m):\n",
    "        while length and pat[i] != pat[length]:\n",
    "            length = lps[length - 1]\n",
    "        if pat[i] == pat[length]:\n",
    "            length += 1\n",
    "            lps[i] = length\n",
    "    # search\n",
    "    matches = []\n",
    "    i = j = 0\n",
    "    while i < n:\n",
    "        if txt[i] == pat[j]:\n",
    "            i += 1\n",
    "            j += 1\n",
    "            if j == m:\n",
    "                matches.append(i - j)\n",
    "                j = lps[j - 1]\n",
    "        else:\n",
    "            if j:\n",
    "                j = lps[j - 1]\n",
    "            else:\n",
    "                i += 1\n",
    "    return matches\n",
    "\n",
    "def main():\n",
    "    print(\"KMP pattern search (enter 'q' or empty text to quit)\")\n",
    "    while True:\n",
    "        txt = input(\"\\nEnter text (or 'q' to quit): \").strip()\n",
    "        if not txt or txt.lower() == \"q\":\n",
    "            break\n",
    "        pat = input(\"Enter pattern (or 'q' to quit): \").strip()\n",
    "        if not pat or pat.lower() == \"q\":\n",
    "            break\n",
    "        if len(pat) > len(txt):\n",
    "            print(\"Pattern is longer than text; no occurrences possible.\")\n",
    "            continue\n",
    "        matches = kmp_search(pat, txt)\n",
    "        if matches:\n",
    "            for idx in matches:\n",
    "                print(f\"Pattern found at index {idx}\")\n",
    "        else:\n",
    "            print(\"No occurrence found.\")\n",
    "    print(\"Exiting.\")\n",
    "\n",
    "if __name__ == \"__main__\":\n",
    "    main()\n",
    "\n",
    "\n"
   ]
  },
  {
   "cell_type": "code",
   "execution_count": null,
   "id": "e61d1c4e-a83f-47b4-8b5e-d25043e9858f",
   "metadata": {},
   "outputs": [],
   "source": []
  }
 ],
 "metadata": {
  "kernelspec": {
   "display_name": "Python 3 (ipykernel)",
   "language": "python",
   "name": "python3"
  },
  "language_info": {
   "codemirror_mode": {
    "name": "ipython",
    "version": 3
   },
   "file_extension": ".py",
   "mimetype": "text/x-python",
   "name": "python",
   "nbconvert_exporter": "python",
   "pygments_lexer": "ipython3",
   "version": "3.13.5"
  }
 },
 "nbformat": 4,
 "nbformat_minor": 5
}
